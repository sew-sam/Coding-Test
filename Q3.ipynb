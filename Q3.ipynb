{
 "cells": [
  {
   "cell_type": "code",
   "execution_count": 43,
   "id": "15c5743e",
   "metadata": {},
   "outputs": [],
   "source": [
    "import numpy as np\n",
    "\n",
    "# [\"BEGIN\", \"UP 5\", \"LEFT 3\", \"RIGHT 8\", \"DOWN 2\"]\n",
    "def distance_calculator(instruction_list):\n",
    "    position_x = 0\n",
    "    position_y = 0\n",
    "    for element in instruction_list:\n",
    "        if element.split(\" \")[0] == \"UP\":\n",
    "            position_y += int(element.split(\" \")[1])\n",
    "        if element.split(\" \")[0] == \"DOWN\":\n",
    "            position_y -= int(element.split(\" \")[1])\n",
    "        if element.split(\" \")[0] == \"RIGHT\":\n",
    "            position_x += int(element.split(\" \")[1])\n",
    "        if element.split(\" \")[0] == \"LEFT\":\n",
    "            position_x -= int(element.split(\" \")[1])\n",
    "        if element == \"STOP\":\n",
    "            break\n",
    "    print(f\"Final position is ({position_x}, {position_y})\")\n",
    "    diagonal_distance = np.sqrt(position_x**2+position_y**2)\n",
    "    print(f\"The distance of Robot from the original postion is {diagonal_distance}\")"
   ]
  },
  {
   "cell_type": "code",
   "execution_count": null,
   "id": "f4cd8eec",
   "metadata": {},
   "outputs": [],
   "source": []
  }
 ],
 "metadata": {
  "kernelspec": {
   "display_name": "Python 3 (ipykernel)",
   "language": "python",
   "name": "python3"
  },
  "language_info": {
   "codemirror_mode": {
    "name": "ipython",
    "version": 3
   },
   "file_extension": ".py",
   "mimetype": "text/x-python",
   "name": "python",
   "nbconvert_exporter": "python",
   "pygments_lexer": "ipython3",
   "version": "3.9.13"
  }
 },
 "nbformat": 4,
 "nbformat_minor": 5
}
